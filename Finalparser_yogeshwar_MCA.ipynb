{
 "cells": [
  {
   "cell_type": "code",
   "execution_count": 1,
   "id": "40880d98-23a3-46d6-bbfe-3229a0720766",
   "metadata": {},
   "outputs": [],
   "source": [
    "import os\n",
    "import re\n",
    "import csv\n",
    "from PyPDF2 import PdfReader"
   ]
  },
  {
   "cell_type": "code",
   "execution_count": 2,
   "id": "85bceee7-6382-44c2-80fd-62ecffbce943",
   "metadata": {},
   "outputs": [],
   "source": [
    "def extract_text_from_first_page(pdf_path):\n",
    "    with open(pdf_path, 'rb') as file:\n",
    "        reader = PdfReader(file)\n",
    "        first_page_text = reader.pages[0].extract_text()\n",
    "    return first_page_text\n",
    "\n",
    "def extract_metadata(text):\n",
    "    email = re.search(r'[\\w\\.-]+@[\\w\\.-]+', text)\n",
    "    phone = re.search(r'(\\+\\d{1,2}\\s?)?\\(?\\d{3}\\)?[\\s.-]?\\d{3}[\\s.-]?\\d{4}', text)\n",
    "    linkedin = re.search(r'linkedin\\.com\\/in\\/([\\w-]+)', text)\n",
    "\n",
    "    return {\n",
    "        'email': email.group() if email else None,\n",
    "        'phone': phone.group() if phone else None,\n",
    "        'linkedin': linkedin.group(0) if linkedin else None\n",
    "    }\n",
    "\n",
    "def summarize_text(text):\n",
    "    return text[:200] + '...' if len(text) > 200 else text\n",
    "\n",
    "def process_resumes(folder_path):\n",
    "    results = []\n",
    "    for filename in os.listdir(folder_path):\n",
    "        if filename.endswith('.pdf'):\n",
    "            pdf_path = os.path.join(folder_path, filename)\n",
    "            text = extract_text_from_first_page(pdf_path)\n",
    "            metadata = extract_metadata(text)\n",
    "            summary = summarize_text(text)\n",
    "            results.append({'file_name': filename, **metadata, 'summary': summary})\n",
    "\n",
    "    return results"
   ]
  },
  {
   "cell_type": "code",
   "execution_count": 3,
   "id": "9dcd741f-79ad-44ad-959f-de712c6982a0",
   "metadata": {},
   "outputs": [],
   "source": [
    "def save_to_csv(results, output_file):\n",
    "    headers = ['file_name', 'email', 'phone', 'linkedin', 'summary']\n",
    "\n",
    "    file_count = 1\n",
    "    new_output_file = output_file\n",
    "    while os.path.exists(new_output_file):\n",
    "        file_count += 1\n",
    "        new_output_file = f\"{output_file.split('.')[0]}_{file_count}.csv\"\n",
    "\n",
    "    with open(new_output_file, 'w', newline='', encoding='utf-8') as csvfile:\n",
    "        writer = csv.DictWriter(csvfile, fieldnames=headers)\n",
    "        writer.writeheader()\n",
    "        writer.writerows(results)\n",
    "\n",
    "    print(f\"CSV file saved successfully: {os.path.abspath(new_output_file)}\")\n"
   ]
  },
  {
   "cell_type": "code",
   "execution_count": 5,
   "id": "1c2b9121-20d4-4db9-85e9-f1b83e2628d5",
   "metadata": {},
   "outputs": [
    {
     "name": "stdout",
     "output_type": "stream",
     "text": [
      "CSV file saved successfully: /Users/diksha_bisht/All Jupiter Codes/resume_summary.csv\n"
     ]
    }
   ],
   "source": [
    "if __name__ == '__main__':\n",
    "    folder_path = '/path/to/folder'\n",
    "    output_file = 'resume_summary.csv'\n",
    "\n",
    "    results = process_resumes(folder_path)\n",
    "    save_to_csv(results, output_file)"
   ]
  },
  {
   "cell_type": "code",
   "execution_count": null,
   "id": "f3cc5ded-e39a-4f87-a707-abf32aeba915",
   "metadata": {},
   "outputs": [],
   "source": []
  },
  {
   "cell_type": "code",
   "execution_count": null,
   "id": "d5b9f1f3-b031-4679-bdf5-3aecfeb23417",
   "metadata": {},
   "outputs": [],
   "source": []
  },
  {
   "cell_type": "code",
   "execution_count": null,
   "id": "6a73d81a-b3f6-424d-a6ed-1f93306b877b",
   "metadata": {},
   "outputs": [],
   "source": []
  }
 ],
 "metadata": {
  "kernelspec": {
   "display_name": "Python 3 (ipykernel)",
   "language": "python",
   "name": "python3"
  },
  "language_info": {
   "codemirror_mode": {
    "name": "ipython",
    "version": 3
   },
   "file_extension": ".py",
   "mimetype": "text/x-python",
   "name": "python",
   "nbconvert_exporter": "python",
   "pygments_lexer": "ipython3",
   "version": "3.11.7"
  }
 },
 "nbformat": 4,
 "nbformat_minor": 5
}
